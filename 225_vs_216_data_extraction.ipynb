{
 "cells": [
  {
   "cell_type": "code",
   "execution_count": 1,
   "metadata": {
    "collapsed": false
   },
   "outputs": [],
   "source": [
    "import numpy as np\n",
    "import os\n",
    "\n",
    "import pandas as pd\n",
    "from tqdm import tqdm_notebook\n",
    "from aflow import *"
   ]
  },
  {
   "cell_type": "code",
   "execution_count": 2,
   "metadata": {
    "collapsed": false
   },
   "outputs": [],
   "source": [
    "heus_result = search(batch_size=1000\n",
    ").filter( K.natoms==4).filter(K.nspecies==3).filter((K.spacegroup_relax==216) |\n",
    "(K.spacegroup_relax==225) ).filter((K.species=='Al') |\n",
    "                                  (K.species=='Mn') |\n",
    "                                  (K.species=='Cu') |\n",
    "                                  (K.species=='Pt') |\n",
    "                                  (K.species=='Ni') |\n",
    "                                  (K.species=='Sn') |\n",
    "                                  (K.species=='Fe') |\n",
    "                                  (K.species=='Rh') |\n",
    "                                  (K.species=='Ga') |\n",
    "                                  (K.species=='Cr') |\n",
    "                                  (K.species=='Co') |\n",
    "                                  (K.species=='V')  |\n",
    "                                  (K.species=='Pd') |\n",
    "                                  (K.species=='Si') |\n",
    "                                  (K.species=='Ge') |\n",
    "                                  (K.species=='In') |\n",
    "                                  (K.species=='Ru') |\n",
    "                                  (K.species=='W')  |\n",
    "                                  (K.species=='Ti') |\n",
    "                                  (K.species=='As') |\n",
    "                                  (K.species=='Sb') ).select(K.enthalpy_formation_atom,\n",
    "K.spacegroup_relax,K.natoms,K.nspecies,K.compound)\n",
    "\n",
    "heus_result.finalize()"
   ]
  },
  {
   "cell_type": "code",
   "execution_count": null,
   "metadata": {
    "collapsed": false
   },
   "outputs": [
    {
     "data": {
      "text/plain": [
       "126828"
      ]
     },
     "execution_count": 3,
     "metadata": {},
     "output_type": "execute_result"
    }
   ],
   "source": [
    "len(heus_result)"
   ]
  },
  {
   "cell_type": "code",
   "execution_count": null,
   "metadata": {
    "collapsed": false
   },
   "outputs": [],
   "source": [
    "# Now, you can just iterate over the results.\n",
    "# Assume all are Heusler for now,\n",
    "# just store compound and check duplicates later\n",
    "formation_enthalpy=[]\n",
    "compound=[]\n",
    "entries=[]\n",
    "space_group=[]\n",
    "\n",
    "for entry in tqdm_notebook(heus_result):\n",
    "    formation_enthalpy.append(entry.enthalpy_formation_atom)\n",
    "    compound.append(entry.compound)\n",
    "    entries.append(entry)\n",
    "    space_group.append(entry.spacegroup_relax)\n",
    "    "
   ]
  },
  {
   "cell_type": "code",
   "execution_count": null,
   "metadata": {
    "collapsed": false
   },
   "outputs": [],
   "source": [
    "df=pd.DataFrame()\n",
    "df['Compound']=compound\n",
    "df['Formation Enthalpy']=formation_enthalpy\n",
    "df['Space group']=space_group\n",
    "df['Entry']=entries"
   ]
  },
  {
   "cell_type": "code",
   "execution_count": null,
   "metadata": {
    "collapsed": false
   },
   "outputs": [],
   "source": [
    "df.head()"
   ]
  },
  {
   "cell_type": "code",
   "execution_count": null,
   "metadata": {
    "collapsed": false
   },
   "outputs": [],
   "source": [
    "df=df.dropna()"
   ]
  },
  {
   "cell_type": "code",
   "execution_count": null,
   "metadata": {
    "collapsed": false
   },
   "outputs": [],
   "source": [
    "df=df.reset_index(drop=True)"
   ]
  },
  {
   "cell_type": "code",
   "execution_count": null,
   "metadata": {
    "collapsed": false
   },
   "outputs": [],
   "source": [
    "df.size"
   ]
  },
  {
   "cell_type": "code",
   "execution_count": null,
   "metadata": {
    "collapsed": false
   },
   "outputs": [],
   "source": [
    "df=df[df.duplicated(subset='Compound',keep=False)]\n"
   ]
  },
  {
   "cell_type": "code",
   "execution_count": null,
   "metadata": {
    "collapsed": false
   },
   "outputs": [],
   "source": [
    "df.to_csv(path_or_buf='{}/ml_225_216git.csv'.format(os.getcwd()),index=False)"
   ]
  },
  {
   "cell_type": "code",
   "execution_count": null,
   "metadata": {
    "collapsed": true
   },
   "outputs": [],
   "source": []
  }
 ],
 "metadata": {
  "kernelspec": {
   "display_name": "Python 3",
   "language": "python",
   "name": "python3"
  },
  "language_info": {
   "codemirror_mode": {
    "name": "ipython",
    "version": 3
   },
   "file_extension": ".py",
   "mimetype": "text/x-python",
   "name": "python",
   "nbconvert_exporter": "python",
   "pygments_lexer": "ipython3",
   "version": "3.6.0"
  },
  "widgets": {
   "state": {
    "60b9d8f327e546468a54894fa9d22310": {
     "views": [
      {
       "cell_index": 3
      }
     ]
    }
   },
   "version": "1.2.0"
  }
 },
 "nbformat": 4,
 "nbformat_minor": 2
}
